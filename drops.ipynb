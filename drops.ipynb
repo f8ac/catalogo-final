{
 "cells": [
  {
   "cell_type": "code",
   "execution_count": 8,
   "metadata": {},
   "outputs": [],
   "source": [
    "import pandas as pd"
   ]
  },
  {
   "cell_type": "code",
   "execution_count": 9,
   "metadata": {},
   "outputs": [],
   "source": [
    "df_5d_log  = pd.read_csv('./in/copper_log_returns_5d.csv' ,index_col=0)\n",
    "df_10d_log = pd.read_csv('./in/copper_log_returns_10d.csv',index_col=0)\n",
    "df_20d_log = pd.read_csv('./in/copper_log_returns_20d.csv',index_col=0)\n",
    "\n",
    "df_5d = pd.read_csv('./in/copper_returns_5d.csv',index_col=0)\n",
    "df_10d = pd.read_csv('./in/copper_returns_10d.csv',index_col=0)\n",
    "df_20d = pd.read_csv('./in/copper_returns_20d.csv',index_col=0)"
   ]
  },
  {
   "cell_type": "code",
   "execution_count": 10,
   "metadata": {},
   "outputs": [],
   "source": [
    "df_5d = df_5d_log.drop(columns=['CL1', 'COMXCOPR'])\n",
    "df_10d = df_5d_log.drop(columns=['CL1', 'COMXCOPR'])\n",
    "df_20d = df_5d_log.drop(columns=['CL1', 'COMXCOPR'])\n",
    "\n",
    "df_5d_log = df_5d_log.drop(columns=['CL1', 'COMXCOPR'])\n",
    "df_10d_log = df_10d_log.drop(columns=['CL1', 'COMXCOPR'])\n",
    "df_20d_log = df_20d_log.drop(columns=['CL1', 'COMXCOPR'])"
   ]
  },
  {
   "cell_type": "code",
   "execution_count": 11,
   "metadata": {},
   "outputs": [],
   "source": [
    "df_5d. to_csv('./out/copper_returns_5d_final.csv')\n",
    "df_10d.to_csv('./out/copper_returns_10d_final.csv')\n",
    "df_20d.to_csv('./out/copper_returns_20d_final.csv')\n",
    "\n",
    "df_5d_log.to_csv('./out/copper_log_returns_5d_final.csv')\n",
    "df_10d_log.to_csv('./out/copper_log_returns_10d_final.csv')\n",
    "df_20d_log.to_csv('./out/copper_log_returns_20d_final.csv')"
   ]
  }
 ],
 "metadata": {
  "kernelspec": {
   "display_name": "Python 3",
   "language": "python",
   "name": "python3"
  },
  "language_info": {
   "codemirror_mode": {
    "name": "ipython",
    "version": 3
   },
   "file_extension": ".py",
   "mimetype": "text/x-python",
   "name": "python",
   "nbconvert_exporter": "python",
   "pygments_lexer": "ipython3",
   "version": "3.10.12"
  }
 },
 "nbformat": 4,
 "nbformat_minor": 2
}
