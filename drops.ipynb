{
 "cells": [
  {
   "cell_type": "code",
   "execution_count": 1,
   "metadata": {},
   "outputs": [
    {
     "name": "stderr",
     "output_type": "stream",
     "text": [
      "/tmp/ipykernel_101580/4080736814.py:1: DeprecationWarning: \n",
      "Pyarrow will become a required dependency of pandas in the next major release of pandas (pandas 3.0),\n",
      "(to allow more performant data types, such as the Arrow string type, and better interoperability with other libraries)\n",
      "but was not found to be installed on your system.\n",
      "If this would cause problems for you,\n",
      "please provide us feedback at https://github.com/pandas-dev/pandas/issues/54466\n",
      "        \n",
      "  import pandas as pd\n"
     ]
    }
   ],
   "source": [
    "import pandas as pd"
   ]
  },
  {
   "cell_type": "code",
   "execution_count": 2,
   "metadata": {},
   "outputs": [],
   "source": [
    "df_5d_log  = pd.read_csv('./in/copper_log_returns_5d.csv' ,index_col=0)\n",
    "df_10d_log = pd.read_csv('./in/copper_log_returns_10d.csv',index_col=0)\n",
    "df_20d_log = pd.read_csv('./in/copper_log_returns_20d.csv',index_col=0)\n",
    "\n",
    "df_5d = pd.read_csv('./in/copper_returns_5d.csv',index_col=0)\n",
    "df_10d = pd.read_csv('./in/copper_returns_10d.csv',index_col=0)\n",
    "df_20d = pd.read_csv('./in/copper_returns_20d.csv',index_col=0)"
   ]
  },
  {
   "cell_type": "code",
   "execution_count": 3,
   "metadata": {},
   "outputs": [],
   "source": [
    "df_5d = df_5d_log.drop(columns=['CL1', 'COMXCOPR'])\n",
    "df_10d = df_5d_log.drop(columns=['CL1', 'COMXCOPR'])\n",
    "df_20d = df_5d_log.drop(columns=['CL1', 'COMXCOPR'])\n",
    "\n",
    "df_5d_log = df_5d_log.drop(columns=['CL1', 'COMXCOPR'])\n",
    "df_10d_log = df_10d_log.drop(columns=['CL1', 'COMXCOPR'])\n",
    "df_20d_log = df_20d_log.drop(columns=['CL1', 'COMXCOPR'])"
   ]
  },
  {
   "cell_type": "code",
   "execution_count": 4,
   "metadata": {},
   "outputs": [],
   "source": [
    "df_5d. to_csv('./out/copper_returns_5d_final.csv')\n",
    "df_10d.to_csv('./out/copper_returns_10d_final.csv')\n",
    "df_20d.to_csv('./out/copper_returns_20d_final.csv')\n",
    "\n",
    "df_5d_log.to_csv('./out/copper_log_returns_5d_final.csv')\n",
    "df_10d_log.to_csv('./out/copper_log_returns_10d_final.csv')\n",
    "df_20d_log.to_csv('./out/copper_log_returns_20d_final.csv')"
   ]
  }
 ],
 "metadata": {
  "kernelspec": {
   "display_name": "Python 3",
   "language": "python",
   "name": "python3"
  },
  "language_info": {
   "codemirror_mode": {
    "name": "ipython",
    "version": 3
   },
   "file_extension": ".py",
   "mimetype": "text/x-python",
   "name": "python",
   "nbconvert_exporter": "python",
   "pygments_lexer": "ipython3",
   "version": "3.10.12"
  }
 },
 "nbformat": 4,
 "nbformat_minor": 2
}
